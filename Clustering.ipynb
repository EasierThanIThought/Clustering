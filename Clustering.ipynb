{
  "nbformat": 4,
  "nbformat_minor": 0,
  "metadata": {
    "colab": {
      "name": "9ML",
      "provenance": [],
      "collapsed_sections": []
    },
    "kernelspec": {
      "name": "python3",
      "display_name": "Python 3"
    }
  },
  "cells": [
    {
      "cell_type": "markdown",
      "source": [
        "##Кластеризация"
      ],
      "metadata": {
        "id": "ixyDxWaGr7BD"
      }
    },
    {
      "cell_type": "markdown",
      "source": [
        "Выполнение кластеризации на K = 3 кластера методом К-средних на основании таблицы некоторых синтетических данных. "
      ],
      "metadata": {
        "id": "FYctjjlVu-qB"
      }
    },
    {
      "cell_type": "markdown",
      "source": [
        "Подключение библиотек"
      ],
      "metadata": {
        "id": "mdbEQnv-sAon"
      }
    },
    {
      "cell_type": "code",
      "metadata": {
        "id": "IZZdiOu1yIXN"
      },
      "source": [
        "import numpy as np\n",
        "import pandas as pd\n",
        "from sklearn.cluster import KMeans"
      ],
      "execution_count": 1,
      "outputs": []
    },
    {
      "cell_type": "markdown",
      "source": [
        "Чтение данных: так как названия конфет уникальны, они используются в качестве индекса. Удаление столбца Cluster из набора данных."
      ],
      "metadata": {
        "id": "5hSWt3EIsNf3"
      }
    },
    {
      "cell_type": "code",
      "metadata": {
        "id": "BgVDvMbj1TGR"
      },
      "source": [
        "df = pd.read_csv(\"/content/data.csv\", delimiter=',', index_col='Object')\n",
        "df_norm = df.drop('Cluster', axis=1)"
      ],
      "execution_count": 2,
      "outputs": []
    },
    {
      "cell_type": "markdown",
      "source": [
        "Инициализация модели, обучение модели на данных из df_norm. \n",
        "При выполнении задания с помощью библиотеки sklearn используется начальная инициализация со следующими координатами центроидов и параметрами:\n",
        "KMeans(n_clusters=3, init=np.array([[11.8, 11.6], [8.5, 9.83], [14.0, 14.5]]), max_iter=100, n_init=1)"
      ],
      "metadata": {
        "id": "KEJSGJ_PsduK"
      }
    },
    {
      "cell_type": "code",
      "metadata": {
        "id": "VPwmZIp61Ysf"
      },
      "source": [
        "kmeans = KMeans(n_clusters=3, init=np.array([[11.8, 11.6], [8.5, 9.83], [14.0, 14.5]]), max_iter=100, n_init=1)\n",
        "model = kmeans.fit(df_norm)"
      ],
      "execution_count": 3,
      "outputs": []
    },
    {
      "cell_type": "markdown",
      "source": [
        "Вывод назначенных кластеров:"
      ],
      "metadata": {
        "id": "dH4NTjxyswR8"
      }
    },
    {
      "cell_type": "code",
      "metadata": {
        "id": "s4WwmRwW1Yvy",
        "colab": {
          "base_uri": "https://localhost:8080/",
          "height": 551
        },
        "outputId": "b7a767e0-7bbe-4aab-e927-5b1efe908229"
      },
      "source": [
        "df_norm[\"Clusters\"] = model.labels_.tolist()\n",
        "df_norm"
      ],
      "execution_count": 4,
      "outputs": [
        {
          "output_type": "execute_result",
          "data": {
            "text/plain": [
              "         X   Y  Clusters\n",
              "Object                  \n",
              "1       16  12         2\n",
              "2        5   5         1\n",
              "3       14   5         0\n",
              "4        8   2         0\n",
              "5        2  18         1\n",
              "6        1   4         1\n",
              "7        8  20         2\n",
              "8       14   8         0\n",
              "9        2  17         1\n",
              "10       7  20         2\n",
              "11      16   7         0\n",
              "12      19  15         2\n",
              "13      20  20         2\n",
              "14      20   9         0\n",
              "15      14  13         2"
            ],
            "text/html": [
              "\n",
              "  <div id=\"df-1f9d8eb2-2257-4cee-991f-79905553a3e3\">\n",
              "    <div class=\"colab-df-container\">\n",
              "      <div>\n",
              "<style scoped>\n",
              "    .dataframe tbody tr th:only-of-type {\n",
              "        vertical-align: middle;\n",
              "    }\n",
              "\n",
              "    .dataframe tbody tr th {\n",
              "        vertical-align: top;\n",
              "    }\n",
              "\n",
              "    .dataframe thead th {\n",
              "        text-align: right;\n",
              "    }\n",
              "</style>\n",
              "<table border=\"1\" class=\"dataframe\">\n",
              "  <thead>\n",
              "    <tr style=\"text-align: right;\">\n",
              "      <th></th>\n",
              "      <th>X</th>\n",
              "      <th>Y</th>\n",
              "      <th>Clusters</th>\n",
              "    </tr>\n",
              "    <tr>\n",
              "      <th>Object</th>\n",
              "      <th></th>\n",
              "      <th></th>\n",
              "      <th></th>\n",
              "    </tr>\n",
              "  </thead>\n",
              "  <tbody>\n",
              "    <tr>\n",
              "      <th>1</th>\n",
              "      <td>16</td>\n",
              "      <td>12</td>\n",
              "      <td>2</td>\n",
              "    </tr>\n",
              "    <tr>\n",
              "      <th>2</th>\n",
              "      <td>5</td>\n",
              "      <td>5</td>\n",
              "      <td>1</td>\n",
              "    </tr>\n",
              "    <tr>\n",
              "      <th>3</th>\n",
              "      <td>14</td>\n",
              "      <td>5</td>\n",
              "      <td>0</td>\n",
              "    </tr>\n",
              "    <tr>\n",
              "      <th>4</th>\n",
              "      <td>8</td>\n",
              "      <td>2</td>\n",
              "      <td>0</td>\n",
              "    </tr>\n",
              "    <tr>\n",
              "      <th>5</th>\n",
              "      <td>2</td>\n",
              "      <td>18</td>\n",
              "      <td>1</td>\n",
              "    </tr>\n",
              "    <tr>\n",
              "      <th>6</th>\n",
              "      <td>1</td>\n",
              "      <td>4</td>\n",
              "      <td>1</td>\n",
              "    </tr>\n",
              "    <tr>\n",
              "      <th>7</th>\n",
              "      <td>8</td>\n",
              "      <td>20</td>\n",
              "      <td>2</td>\n",
              "    </tr>\n",
              "    <tr>\n",
              "      <th>8</th>\n",
              "      <td>14</td>\n",
              "      <td>8</td>\n",
              "      <td>0</td>\n",
              "    </tr>\n",
              "    <tr>\n",
              "      <th>9</th>\n",
              "      <td>2</td>\n",
              "      <td>17</td>\n",
              "      <td>1</td>\n",
              "    </tr>\n",
              "    <tr>\n",
              "      <th>10</th>\n",
              "      <td>7</td>\n",
              "      <td>20</td>\n",
              "      <td>2</td>\n",
              "    </tr>\n",
              "    <tr>\n",
              "      <th>11</th>\n",
              "      <td>16</td>\n",
              "      <td>7</td>\n",
              "      <td>0</td>\n",
              "    </tr>\n",
              "    <tr>\n",
              "      <th>12</th>\n",
              "      <td>19</td>\n",
              "      <td>15</td>\n",
              "      <td>2</td>\n",
              "    </tr>\n",
              "    <tr>\n",
              "      <th>13</th>\n",
              "      <td>20</td>\n",
              "      <td>20</td>\n",
              "      <td>2</td>\n",
              "    </tr>\n",
              "    <tr>\n",
              "      <th>14</th>\n",
              "      <td>20</td>\n",
              "      <td>9</td>\n",
              "      <td>0</td>\n",
              "    </tr>\n",
              "    <tr>\n",
              "      <th>15</th>\n",
              "      <td>14</td>\n",
              "      <td>13</td>\n",
              "      <td>2</td>\n",
              "    </tr>\n",
              "  </tbody>\n",
              "</table>\n",
              "</div>\n",
              "      <button class=\"colab-df-convert\" onclick=\"convertToInteractive('df-1f9d8eb2-2257-4cee-991f-79905553a3e3')\"\n",
              "              title=\"Convert this dataframe to an interactive table.\"\n",
              "              style=\"display:none;\">\n",
              "        \n",
              "  <svg xmlns=\"http://www.w3.org/2000/svg\" height=\"24px\"viewBox=\"0 0 24 24\"\n",
              "       width=\"24px\">\n",
              "    <path d=\"M0 0h24v24H0V0z\" fill=\"none\"/>\n",
              "    <path d=\"M18.56 5.44l.94 2.06.94-2.06 2.06-.94-2.06-.94-.94-2.06-.94 2.06-2.06.94zm-11 1L8.5 8.5l.94-2.06 2.06-.94-2.06-.94L8.5 2.5l-.94 2.06-2.06.94zm10 10l.94 2.06.94-2.06 2.06-.94-2.06-.94-.94-2.06-.94 2.06-2.06.94z\"/><path d=\"M17.41 7.96l-1.37-1.37c-.4-.4-.92-.59-1.43-.59-.52 0-1.04.2-1.43.59L10.3 9.45l-7.72 7.72c-.78.78-.78 2.05 0 2.83L4 21.41c.39.39.9.59 1.41.59.51 0 1.02-.2 1.41-.59l7.78-7.78 2.81-2.81c.8-.78.8-2.07 0-2.86zM5.41 20L4 18.59l7.72-7.72 1.47 1.35L5.41 20z\"/>\n",
              "  </svg>\n",
              "      </button>\n",
              "      \n",
              "  <style>\n",
              "    .colab-df-container {\n",
              "      display:flex;\n",
              "      flex-wrap:wrap;\n",
              "      gap: 12px;\n",
              "    }\n",
              "\n",
              "    .colab-df-convert {\n",
              "      background-color: #E8F0FE;\n",
              "      border: none;\n",
              "      border-radius: 50%;\n",
              "      cursor: pointer;\n",
              "      display: none;\n",
              "      fill: #1967D2;\n",
              "      height: 32px;\n",
              "      padding: 0 0 0 0;\n",
              "      width: 32px;\n",
              "    }\n",
              "\n",
              "    .colab-df-convert:hover {\n",
              "      background-color: #E2EBFA;\n",
              "      box-shadow: 0px 1px 2px rgba(60, 64, 67, 0.3), 0px 1px 3px 1px rgba(60, 64, 67, 0.15);\n",
              "      fill: #174EA6;\n",
              "    }\n",
              "\n",
              "    [theme=dark] .colab-df-convert {\n",
              "      background-color: #3B4455;\n",
              "      fill: #D2E3FC;\n",
              "    }\n",
              "\n",
              "    [theme=dark] .colab-df-convert:hover {\n",
              "      background-color: #434B5C;\n",
              "      box-shadow: 0px 1px 3px 1px rgba(0, 0, 0, 0.15);\n",
              "      filter: drop-shadow(0px 1px 2px rgba(0, 0, 0, 0.3));\n",
              "      fill: #FFFFFF;\n",
              "    }\n",
              "  </style>\n",
              "\n",
              "      <script>\n",
              "        const buttonEl =\n",
              "          document.querySelector('#df-1f9d8eb2-2257-4cee-991f-79905553a3e3 button.colab-df-convert');\n",
              "        buttonEl.style.display =\n",
              "          google.colab.kernel.accessAllowed ? 'block' : 'none';\n",
              "\n",
              "        async function convertToInteractive(key) {\n",
              "          const element = document.querySelector('#df-1f9d8eb2-2257-4cee-991f-79905553a3e3');\n",
              "          const dataTable =\n",
              "            await google.colab.kernel.invokeFunction('convertToInteractive',\n",
              "                                                     [key], {});\n",
              "          if (!dataTable) return;\n",
              "\n",
              "          const docLinkHtml = 'Like what you see? Visit the ' +\n",
              "            '<a target=\"_blank\" href=https://colab.research.google.com/notebooks/data_table.ipynb>data table notebook</a>'\n",
              "            + ' to learn more about interactive tables.';\n",
              "          element.innerHTML = '';\n",
              "          dataTable['output_type'] = 'display_data';\n",
              "          await google.colab.output.renderOutput(dataTable, element);\n",
              "          const docLink = document.createElement('div');\n",
              "          docLink.innerHTML = docLinkHtml;\n",
              "          element.appendChild(docLink);\n",
              "        }\n",
              "      </script>\n",
              "    </div>\n",
              "  </div>\n",
              "  "
            ]
          },
          "metadata": {},
          "execution_count": 4
        }
      ]
    },
    {
      "cell_type": "markdown",
      "source": [
        "Обучение модели и расчет расстояний до центроидов:"
      ],
      "metadata": {
        "id": "OarcZSdTs2y9"
      }
    },
    {
      "cell_type": "code",
      "metadata": {
        "id": "zdjXtBv81Y2C"
      },
      "source": [
        "alldistances = kmeans.fit_transform(df_norm.drop('Clusters',axis=1))"
      ],
      "execution_count": 5,
      "outputs": []
    },
    {
      "cell_type": "markdown",
      "source": [
        "вывод расстояний от данных до всех центроидов"
      ],
      "metadata": {
        "id": "kwBSxkRZs8YH"
      }
    },
    {
      "cell_type": "code",
      "source": [
        "alldistances"
      ],
      "metadata": {
        "colab": {
          "base_uri": "https://localhost:8080/"
        },
        "id": "v53ZvuXhs-br",
        "outputId": "641ae1d7-ce6e-44a7-98f6-4790ebb17ec5"
      },
      "execution_count": 6,
      "outputs": [
        {
          "output_type": "execute_result",
          "data": {
            "text/plain": [
              "array([[ 6.01664358, 13.53698637,  5.07718207],\n",
              "       [ 9.47628619,  6.5       , 14.73469074],\n",
              "       [ 1.26491106, 12.97112177, 11.66666667],\n",
              "       [ 7.65506368, 10.54751155, 15.84648577],\n",
              "       [17.11724277,  7.01783442, 12.07384685],\n",
              "       [13.57939616,  7.15891053, 18.15060452],\n",
              "       [15.2118375 , 10.54751155,  6.86375343],\n",
              "       [ 1.84390889, 11.88486432,  8.66666667],\n",
              "       [16.44384383,  6.02079729, 12.00462874],\n",
              "       [15.6588633 , 10.0623059 ,  7.75313557],\n",
              "       [ 1.78885438, 14.08012784,  9.87139526],\n",
              "       [ 9.92975327, 16.97792685,  5.27046277],\n",
              "       [14.89295135, 19.67866865,  6.86375343],\n",
              "       [ 6.26099034, 17.61391495,  9.73538791],\n",
              "       [ 6.81175455, 11.67261753,  3.66666667]])"
            ]
          },
          "metadata": {},
          "execution_count": 6
        }
      ]
    },
    {
      "cell_type": "markdown",
      "source": [
        "По результатам выполнения кластеризации определяется среднее расстояние между объектами и центроидом, отнесенных к кластеру 0."
      ],
      "metadata": {
        "id": "FQegnJ32tQY3"
      }
    },
    {
      "cell_type": "code",
      "metadata": {
        "id": "04acMJNI1doR",
        "colab": {
          "base_uri": "https://localhost:8080/"
        },
        "outputId": "66e5bb02-4f73-4acf-f56b-2015abc3c4fe"
      },
      "source": [
        "search = 0\n",
        "Clusters_array = []\n",
        "for i in range(len(df_norm['Clusters'])):\n",
        "  if (df_norm['Clusters'][i+1] == search):\n",
        "    Clusters_array.append(alldistances[i][search])\n",
        "sum(Clusters_array)/len(Clusters_array)"
      ],
      "execution_count": 7,
      "outputs": [
        {
          "output_type": "execute_result",
          "data": {
            "text/plain": [
              "3.762745671625408"
            ]
          },
          "metadata": {},
          "execution_count": 7
        }
      ]
    }
  ]
}